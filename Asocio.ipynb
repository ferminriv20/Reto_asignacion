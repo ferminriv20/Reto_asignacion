{
  "nbformat": 4,
  "nbformat_minor": 0,
  "metadata": {
    "colab": {
      "provenance": []
    },
    "kernelspec": {
      "name": "python3",
      "display_name": "Python 3"
    },
    "language_info": {
      "name": "python"
    }
  },
  "cells": [
    {
      "cell_type": "markdown",
      "source": [
        "# Asignación de Puestos de Trabajo para una  Estrategia Híbrida de Presencialidad y Teletrabajo\n"
      ],
      "metadata": {
        "id": "fsLz003lSxxg"
      }
    },
    {
      "cell_type": "markdown",
      "source": [
        "A partir de 2022, la Universidad de Antioquia oficializó el teletrabajo como parte de su estructura organizacional, dando a los colaboradores la flexibilidad de combinar jornadas presenciales y remotas. Sin embargo, este cambio trajo consigo un nuevo desafío: los colaboradores ya no tienen puestos de trabajo fijos, sino que deben compartirlos de acuerdo con su calendario de asistencia. Esto se transforma en un reto logístico y organizacional, ya que la asignación de puestos debe realizarse de manera equitativa y eficiente, considerando tanto las necesidades individuales de los colaboradores como la estructura funcional de la Dirección de Planeación y Desarrollo Institucional.\n",
        "\n",
        "\n",
        "El problema consiste en la asignación de puesos de trabajo para cada colaborador los dias que requieren presencialidad en las intalaciones del campus.   Se necesita cumplir con los siguientes requerimientos:\n",
        "\n",
        "- Cada equipo de trabajo tiene un día de reunión semanal. En ese día específico, todos los miembros de ese equipo deben asistir a la oficina de forma presencial.\n",
        "\n",
        "- Cada empleado tiene un número fijo de días que debe trabajar en la oficina por semana (generalmente dos o tres).\n",
        "\n",
        "\n",
        "-  Un empleado solo puede ser asignado a un puesto de trabajo (escritorio) que sea compatible con sus necesidades. Por ejemplo, si necesita un software específico o un tipo de silla ergonómica, solo se le pueden asignar los escritorios que cumplan con esos requisitos.\n",
        "\n",
        "- Un mismo puesto de trabajo no puede ser ocupado por más de un empleado en el mismo día.\n",
        "\n",
        "Adicionalmente, existen algunas condiciones deseables que hacen que una solución sea mejor que otra. El objetivo es satisfacer la mayor cantidad posible de ellas, entre estas tenemos las siguientes :\n",
        "\n",
        "- La prioridad es lograr que la mayor cantidad posible de empleados reciba una asignación válida de puesto, sin dejar a nadie fuera si se puede evitar.\n",
        "\n",
        "- En la medida de lo posible, los días de trabajo presencial que se le asignen a un empleado deben coincidir con los días que él o ella ha indicado como sus preferidos.\n",
        "\n",
        "- Los miembros de un mismo equipo deben trabajar lo más cerca posible. Si no es posible que todo un equipo quepa en una sola zona, se prefiere que el equipo se divida en un máximo de dos zonas. Se debe evitar que haya miembros del equipo completamente aislados en zonas diferentes.\n"
      ],
      "metadata": {
        "id": "kfDQ8rCGt1S4"
      }
    },
    {
      "cell_type": "markdown",
      "source": [
        "## Modelo Matemático\n",
        "\n",
        "Para abordar el reto de la asignación de puestos de trabajo, se propone un modelo de Programación lineal multiobjetivo. Este modelo tiene como objetivo encontrar una asignación óptima que maximice el cumplimiento de las condiciones deseables, al tiempo que satisface todas las restricciones duras del problema.\n",
        "A continuación, se definen los conjuntos, parámetros, variables de decisión, la función objetivo y las restricciones que componen el modelo."
      ],
      "metadata": {
        "id": "xkGziJEispVr"
      }
    },
    {
      "cell_type": "markdown",
      "source": [
        "### Conjuntos"
      ],
      "metadata": {
        "id": "OjEeC-qesyTZ"
      }
    },
    {
      "cell_type": "markdown",
      "source": [
        "\\begin{align*}\n",
        "E &= [E0,..,|E|]  : \\quad Empleados \\\\\n",
        "D &= [D0,..,|D|]  : \\quad Escritorios \\\\\n",
        "T &= [L, Ma, Mi, J, V] : \\quad Dias \\\\\n",
        "G &= [G0,..,|G|] : \\quad Grupos \\\\\n",
        "Z &= [Z0,..,|Z|]  : \\quad Zonas  \n",
        "\\end{align*}"
      ],
      "metadata": {
        "id": "iwBTlXZwwktt"
      }
    },
    {
      "cell_type": "markdown",
      "source": [
        "### Parámetros"
      ],
      "metadata": {
        "id": "q-pemfvWwotL"
      }
    },
    {
      "cell_type": "markdown",
      "source": [
        "\\begin{align}\n",
        "    EscZona_{dz} = & \\left\\lbrace\n",
        "    \\begin{array}{ll}\n",
        "    1, & \\text{Si el escritorio} \\ d \\ \\text{pertenece a la zona} \\ z \\\\\n",
        "    0, & \\text{Sino}\n",
        "    \\end{array}\n",
        "    \\right.\n",
        "    \\\\\n",
        "    DispEsc_{ed} =  & \\left\\lbrace\n",
        "    \\begin{array}{ll}\n",
        "    1, & \\text{Si el empleado} \\ e \\ \\text{puede trabajar en el ecritorio} \\ d \\\\\n",
        "    0, & \\text{Sino}\n",
        "    \\end{array}\n",
        "    \\right.\n",
        "    \\\\\n",
        "    EmpGrupo_{eg} =  & \\left\\lbrace\n",
        "    \\begin{array}{ll}\n",
        "    1, & \\text{Si el empleado} \\ e \\ \\text{pertenece al grupo} \\ g \\\\\n",
        "    0, & \\text{Sino}\n",
        "    \\end{array}\n",
        "    \\right.\n",
        "    \\\\\n",
        "    Preferencia_{et} =  & \\left\\lbrace\n",
        "    \\begin{array}{ll}\n",
        "    1, & \\text{Si el empleado} \\ e \\ \\text{prefiere trabajar el dia} \\ t \\\\\n",
        "    0, & \\text{Sino}\n",
        "    \\end{array}\n",
        "    \\right.\n",
        "    \\\\\n",
        "    Boni =& \\text{ Bonificación a la FO si un trabajador es asignado un dia de su preferencia}\n",
        "    \\\\\n",
        "    Zonas\\_Maximas\\_Grupo =& \\text{ Numero maximo de zonas en las que un grupo puede estar divido.Por defecto se consideran solo 2 Zonas.}\n",
        "    \\\\\n",
        "    NumAsistencias_{e} =& \\text{Cantidad de dias que cada trabajador e prefiere ir a la oficina.}\n",
        "    \\\\\n",
        "    α =& \\text{ alpha para la ponderación de los criterios en la FO}\n",
        "\\end{align}"
      ],
      "metadata": {
        "id": "PPp2FIfAxWdb"
      }
    },
    {
      "cell_type": "markdown",
      "source": [
        "### Variables"
      ],
      "metadata": {
        "id": "mnhljCHA1jtd"
      }
    },
    {
      "cell_type": "markdown",
      "source": [
        "\\begin{align}                                \n",
        "    Reunion\\_G_{gt} =  & \\left\\lbrace\n",
        "    \\begin{array}{ll}\n",
        "    1, & \\text{Si el grupo} \\ g \\text{ se reune el día} \\ t\\\\\n",
        "    0, & \\text{Sino}\n",
        "    \\end{array}\n",
        "    \\right.\n",
        "    \\\\\n",
        "    F_{tzg} =  & \\left\\lbrace\n",
        "    \\begin{array}{ll}\n",
        "    1, & \\text{Si al menos un empleado de} \\ g \\ \\text{es asignado a} \\ z \\ \\text{el dia} \\ t \\\\\n",
        "    0, & \\text{Sino}\n",
        "    \\end{array}\n",
        "    \\right.\n",
        "    \\\\\n",
        "    y_{edt} =  & \\left\\lbrace\n",
        "    \\begin{array}{ll}\n",
        "    1, & \\text{Si el empleado} \\ e \\ \\text{es asignado a} \\ d \\ \\text{el dia} \\ t \\\\\n",
        "    0, & \\text{Sino}\n",
        "    \\end{array}\n",
        "    \\right.\n",
        "\\end{align}"
      ],
      "metadata": {
        "id": "gPQV87aF3Ky0"
      }
    },
    {
      "cell_type": "markdown",
      "source": [
        "### Funcion Objetivo"
      ],
      "metadata": {
        "id": "6UU1QmON3oCB"
      }
    },
    {
      "cell_type": "markdown",
      "source": [
        "La función objetivo está diseñada para resolver el desafío de optimizar simultáneamente dos metas conflictivas: la satisfacción individual de los empleados, maximizando sus asignaciones y preferencias, y la cohesión de los equipos, minimizando su dispersión física. Para lograrlo, se emplea un enfoque multiobjetivo por suma ponderada, el cual requiere una normalización previa de cada criterio para transformar sus distintas unidades y escalas a un rango comparable y adimensional. Este tratamiento asegura una ponderación justa y habilita al tomador de decisiones para ajustar la importancia estratégica de cada objetivo mediante pesos (\\alpha ), priorizando ya sea el bienestar del empleado o la sinergia del grupo. De este modo, el modelo maximiza una única función consolidada que representa el balance óptimo entre ambos criterios satisfacción individual del empleado y la cohesión de los equipos."
      ],
      "metadata": {
        "id": "LWca0UWE6Amm"
      }
    },
    {
      "cell_type": "markdown",
      "source": [
        "$$\n",
        "\\text{Max  } \\frac{\\alpha \\left( \\sum_{e \\in E} \\sum_{d \\in D} \\sum_{t \\in T} y_{edt} \\cdot [1 + (\\text{Preferencia}_{et} \\cdot \\text{Boni})] \\right)}{\\sum_{e \\in E} [\\text{NumAsistencias}_e \\cdot (1 + \\text{$Boni$})]} \\cdot  +\\frac{(1-\\alpha)  \\cdot \\left(|G| \\cdot |T| \\cdot \\text{MaxZonasPorGrupo} -\\sum_{t \\in T} \\sum_{z \\in Z} \\sum_{g \\in G} F_{tzg} \\right)}{|G| \\cdot |T| \\cdot \\text{MaxZonasPorGrupo} - |G|} \\cdot\n",
        "$$"
      ],
      "metadata": {
        "id": "DWcY7Ofl3rax"
      }
    },
    {
      "cell_type": "markdown",
      "source": [
        "### Restricciones"
      ],
      "metadata": {
        "id": "drLSJk7d7JrT"
      }
    },
    {
      "cell_type": "markdown",
      "source": [
        "Para cada dia y escritorio garantiza que solo 1 trabajador sea asignado (Asignación única para escritorios)"
      ],
      "metadata": {
        "id": "eY-DhEIS9AUB"
      }
    },
    {
      "cell_type": "markdown",
      "source": [
        "\\begin{equation}\n",
        "    \\sum_{e = 1}^{E} y_{edt} \\leq 1 \\quad \\forall \\ d \\in D, \\ t \\in T\n",
        "\\end{equation}"
      ],
      "metadata": {
        "id": "J88YEDV28643"
      }
    },
    {
      "cell_type": "markdown",
      "source": [
        "Para cada empleado garantiza que solo pueda ser asignado a un escritorio al día (Asignación única para empleados)"
      ],
      "metadata": {
        "id": "Dl4p6hW-9OKH"
      }
    },
    {
      "cell_type": "markdown",
      "source": [
        "\\begin{equation}\n",
        "    \\sum_{d = 1}^{D} y_{edt} \\leq 1 \\quad \\forall \\ e \\in E, \\ t \\in T\n",
        "\\end{equation}"
      ],
      "metadata": {
        "id": "cV3zD8vX929U"
      }
    },
    {
      "cell_type": "markdown",
      "source": [
        "Cada grupo debe reunirse por lo menos 1 vez  a la semana.\n",
        "\n",
        "$$\n",
        "\\sum_{t=1}^{T} \\mathrm{Reunion\\_G}_{gt} \\ge 1 \\quad \\forall g \\in G\n",
        "$$"
      ],
      "metadata": {
        "id": "7DSgNwVbKtZD"
      }
    },
    {
      "cell_type": "markdown",
      "source": [
        "Para el dia de la reunión grupal, se debe garantizar que todos los miembros del equipo  asistan.\n",
        "\n",
        "$$\n",
        "\\sum_{d=1}^{D} \\sum_{e=1}^{E} \\mathrm{EmpGrupo}_{eg} \\cdot y_{edt} = \\left( \\sum_{e=1}^{E} \\mathrm{EmpGrupo}_{eg} \\right) \\cdot \\mathrm{Reunion\\_G}_{gt} \\quad \\forall g \\in G, t \\in T\n",
        "$$"
      ],
      "metadata": {
        "id": "9PlGY8wrMcCV"
      }
    },
    {
      "cell_type": "markdown",
      "source": [
        "Para cada grupo se deben asignar un número determinados de zonas\n",
        "\n",
        "$$\n",
        "\\sum_{z=1}^{Z} F_{tzg} \\le Zonas\\_Maximas\\_Grupo \\quad \\forall g \\in G, t \\in T\n",
        "$$"
      ],
      "metadata": {
        "id": "2ADnsj2KN1di"
      }
    },
    {
      "cell_type": "markdown",
      "source": [
        "Para cualquier zona, se deben asignar por lo menos  2 trabajadores de un mismo grupo.\n",
        "\n",
        "$$\n",
        "\\sum_{d=1}^{D} \\sum_{e=1}^{E} \\mathrm{EscZona}_{dz} \\cdot \\mathrm{EmpGrupo}_{eg} \\cdot y_{edt} \\ge 2 \\cdot F_{tzg} \\quad \\forall g \\in G, t \\in T, z \\in Z\n",
        "$$\n",
        "\n",
        "\n",
        "\n"
      ],
      "metadata": {
        "id": "OT2lsQk-N97t"
      }
    },
    {
      "cell_type": "markdown",
      "source": [
        "Se garantiza que la presencia de un solo miembro define el estado de todo el grupo respecto a esa zona.\n",
        "\n",
        "\n",
        "$$\n",
        "F_{tzg} \\ge y_{edt} \\cdot \\mathrm{EmpGrupo}_{eg} \\cdot \\mathrm{EscZona}_{dz} \\quad \\forall g \\in G, t \\in T, z \\in Z, d \\in D, e \\in E\n",
        "$$"
      ],
      "metadata": {
        "id": "yuyyHJQWOM5R"
      }
    },
    {
      "cell_type": "markdown",
      "source": [
        "Los trabajadores deben ser asignados a escritorios compatibles con sus necesidades.\n",
        "\n",
        "$$\n",
        "y_{edt} \\le DispEsc_{ed} \\quad \\forall d \\in D, t \\in T, e \\in E\n",
        "$$\n"
      ],
      "metadata": {
        "id": "07cO-0QRGhLt"
      }
    },
    {
      "cell_type": "markdown",
      "source": [
        "Cada trabajador debe asistir el número de días requeridos de manera\n",
        "presencial.\n",
        "\n",
        "$$\n",
        "\\sum_{d=1}^{D} \\sum_{t=L}^{T} y_{edt} \\ge 2 \\quad \\forall e \\in E\n",
        "$$"
      ],
      "metadata": {
        "id": "jLQdyNUJ-NVX"
      }
    },
    {
      "cell_type": "markdown",
      "source": [
        "## Cargue de Datos desde Python\n"
      ],
      "metadata": {
        "id": "uoX80OQIaecq"
      }
    },
    {
      "cell_type": "markdown",
      "source": [
        "Se crea una función para extraer los datos de los JSON y cargarlos en los .dat necesarios para leer los datos en AMPL"
      ],
      "metadata": {
        "id": "XSN60_KparZ0"
      }
    },
    {
      "cell_type": "code",
      "source": [
        "import json\n",
        "\n",
        "# Función para extraer los datos del JSON y ponerlas en formato DAT (Para AMPL)\n",
        "# Requiere de 2 archivos, el json y el dat\n",
        "def json_a_dat(archivo_json, archivo_dat):\n",
        "    #Se lee el json y se cargan los datos en la variable data\n",
        "    with open(archivo_json, 'r') as f:\n",
        "        data = json.load(f)\n",
        "\n",
        "    # Se escribe en el dat\n",
        "    with open(archivo_dat, 'w') as f:\n",
        "    #Cargando conjuntos\n",
        "        # Conjunto de empleados\n",
        "        f.write(\"set E:= \")\n",
        "        for i, item in enumerate(data[\"Employees\"]):\n",
        "            if i > 0:\n",
        "                f.write(\",\")\n",
        "            f.write(f'\"{item}\"')\n",
        "        f.write(\";\\n\\n\")\n",
        "        # También se crea una lista unica para cada conjunto (Será usado para los parametros)\n",
        "        Empleados = data[\"Employees\"]\n",
        "\n",
        "        #Conjunto de escritorios\n",
        "        f.write(\"set D:= \")\n",
        "        for i, item in enumerate(data[\"Desks\"]):\n",
        "            if i > 0:\n",
        "                f.write(\",\")\n",
        "            f.write(f'\"{item}\"')\n",
        "        f.write(\";\\n\\n\")\n",
        "        #Lista para los escritorios\n",
        "        Escritorios = data[\"Desks\"]\n",
        "\n",
        "        #Conjunto de días\n",
        "        f.write(\"set T:= \")\n",
        "        for i, item in enumerate(data[\"Days\"]):\n",
        "            if i > 0:\n",
        "                f.write(\",\")\n",
        "            f.write(f'\"{item}\"')\n",
        "        f.write(\";\\n\\n\")\n",
        "        #Lista para los días\n",
        "        Dias = data[\"Days\"]\n",
        "\n",
        "        #Conjunto de grupos\n",
        "        f.write(\"set G:= \")\n",
        "        for i, item in enumerate(data[\"Groups\"]):\n",
        "            if i > 0:\n",
        "                f.write(\",\")\n",
        "            f.write(f'\"{item}\"')\n",
        "        f.write(\";\\n\\n\")\n",
        "        #Lista para los grupos\n",
        "        Grupos = data[\"Groups\"]\n",
        "\n",
        "        # Conjunto de zonas\n",
        "        f.write(\"set Z:= \")\n",
        "        for i, item in enumerate(data[\"Zones\"]):\n",
        "            if i > 0:\n",
        "                f.write(\",\")\n",
        "            f.write(f'\"{item}\"')\n",
        "        f.write(\";\\n\\n\")\n",
        "        #Lista para las zonas\n",
        "        Zonas = data[\"Zones\"]\n",
        "\n",
        "    #Cargando parámetros\n",
        "        # Se crea un elemento que albergue el parametro de escritorios en zonas\n",
        "        D_Z = data[\"Desks_Z\"]\n",
        "\n",
        "        # Se escribe en formato AMPL\n",
        "        f.write(\"param EscZona: \" + \" \".join(Zonas) + \" := \\n\")\n",
        "        for i in Escritorios:\n",
        "            f.write(\"       \"+i)\n",
        "            for j in Zonas:\n",
        "                # Si el escritorio se i encuentra en la zona j\n",
        "                value = 1 if i in D_Z[j] else 0\n",
        "                f.write(f\"  {value}\")\n",
        "            f.write(\"\\n\")\n",
        "        f.write(\";\\n\\n\")\n",
        "\n",
        "        # Parametro de disponibilidad de escritorios para empleados\n",
        "        P_E = data[\"Desks_E\"]\n",
        "\n",
        "        f.write(\"param DispEsc: \" + \" \".join(Escritorios) + \" := \\n\")\n",
        "        for i in Empleados:\n",
        "            f.write(\"       \"+i)\n",
        "            for j in Escritorios:\n",
        "                # 1 si el empleado i puede trabajar en el escritorio j\n",
        "                value = 1 if j in P_E[i] else 0\n",
        "                f.write(f\"  {value}\")\n",
        "            f.write(\"\\n\")\n",
        "        f.write(\";\\n\\n\")\n",
        "\n",
        "        # Parametro de pertenencia de empleados a grupos\n",
        "        Per = data[\"Employees_G\"]\n",
        "\n",
        "        f.write(\"param EmpGrupo: \" + \" \".join(Grupos) + \" := \\n\")\n",
        "        for i in Empleados:\n",
        "            f.write(\"       \"+i)\n",
        "            for j in Grupos:\n",
        "                # 1 si el empleado i pertenece al grupo j\n",
        "                value = 1 if i in Per[j] else 0\n",
        "                f.write(f\"  {value}\")\n",
        "            f.write(\"\\n\")\n",
        "        f.write(\";\\n\\n\")\n",
        "\n",
        "        # Parametro de preferencia de empleados\n",
        "        Dias_E = data[\"Days_E\"]\n",
        "\n",
        "        f.write(\"param Preferencia: \" + \" \".join(Dias) + \" := \\n\")\n",
        "        for i in Empleados:\n",
        "            f.write(\"       \"+i)\n",
        "            for j in Dias:\n",
        "                # 1 si el empleado i prefiere el dia j\n",
        "                value = 1 if j in Dias_E[i] else 0\n",
        "                f.write(f\"  {value}\")\n",
        "            f.write(\"\\n\")\n",
        "        f.write(\";\\n\\n\")\n",
        "\n",
        "        # Parametro de bonificación por preferencia\n",
        "        f.write(\"param Boni := 5; \\n\")\n",
        "\n",
        "        # Parametro zonas máximas por grupo\n",
        "        f.write(\"param zonas_maximas_grupo := 2;\")"
      ],
      "metadata": {
        "id": "Mj3UWMiGFiP4"
      },
      "execution_count": 3,
      "outputs": []
    },
    {
      "cell_type": "markdown",
      "source": [
        "Luego, se utiliza la función definida para cargar todas las instancias"
      ],
      "metadata": {
        "id": "RckO2Z2YbFNT"
      }
    },
    {
      "cell_type": "code",
      "source": [
        "for i in range(1,11,1):\n",
        "    archivo_json = f'json/instance{i}.json'\n",
        "    archivo_dat = f'dat/instancia{i}.dat'\n",
        "\n",
        "    json_a_dat(archivo_json, archivo_dat)"
      ],
      "metadata": {
        "id": "cg9WevT0bGki"
      },
      "execution_count": 4,
      "outputs": []
    }
  ]
}